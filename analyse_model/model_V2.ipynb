{
 "cells": [
  {
   "cell_type": "markdown",
   "metadata": {},
   "source": [
    "# Pipeline et modèle"
   ]
  },
  {
   "cell_type": "code",
   "execution_count": 221,
   "metadata": {},
   "outputs": [],
   "source": [
    "import pandas as pd\n",
    "\n",
    "from sklearn.pipeline import Pipeline\n",
    "from sklearn.preprocessing import RobustScaler, OneHotEncoder, StandardScaler, PolynomialFeatures, OrdinalEncoder, LabelEncoder\n",
    "from sklearn.impute import SimpleImputer\n",
    "from sklearn.compose import ColumnTransformer\n",
    "from sklearn.linear_model import LinearRegression, Lasso, ElasticNet, Ridge\n",
    "from sklearn.metrics import mean_absolute_error\n",
    "from sklearn.model_selection import GridSearchCV, RandomizedSearchCV, StratifiedShuffleSplit, ShuffleSplit\n",
    "from sklearn.model_selection import train_test_split, cross_val_predict\n",
    "\n",
    "import pickle"
   ]
  },
  {
   "cell_type": "code",
   "execution_count": 222,
   "metadata": {},
   "outputs": [],
   "source": [
    "df = pd.read_csv(\"./data.csv\")"
   ]
  },
  {
   "cell_type": "code",
   "execution_count": 223,
   "metadata": {},
   "outputs": [],
   "source": [
    "df['f_annee_construction'] = df['f_annee_construction'].astype(str)"
   ]
  },
  {
   "cell_type": "code",
   "execution_count": 224,
   "metadata": {},
   "outputs": [],
   "source": [
    "y = df['f_prix']\n",
    "X = df.drop(\"f_prix\", axis=1)"
   ]
  },
  {
   "cell_type": "code",
   "execution_count": 225,
   "metadata": {},
   "outputs": [],
   "source": [
    "X_train, X_test, y_train, y_test = train_test_split(X, y, shuffle=True, train_size=0.90, random_state=42, stratify=df['f_annee_construction'])\n",
    "\n",
    "num_var = [\"f_cheminee\",\"f_surface_habitable\",\"f_nb_places\",\"f_surface_sous_sol\",\"f_surface_1er_etage\",\"f_nb_salle_bain\"]\n",
    "cat_var = [ \"f_qual\",\"f_annee_construction\",\"f_CuisineQual\", \"f_Quartier\"]\n",
    "\n",
    "cat_transformer = OneHotEncoder(handle_unknown='ignore')\n",
    "\n",
    "num_transformer = StandardScaler()\n",
    "\n",
    "encoder = ColumnTransformer(\n",
    "    transformers=[\n",
    "        ('cat', cat_transformer, cat_var),\n",
    "        ('num', num_transformer, num_var)\n",
    "    ]\n",
    ")\n",
    "\n",
    "pipeline = Pipeline([\n",
    "    ('enc', encoder),\n",
    "    ('poly', PolynomialFeatures(degree=2)),\n",
    "    ('model', Lasso(alpha=205.43354335433543)),\n",
    "])"
   ]
  },
  {
   "cell_type": "code",
   "execution_count": 226,
   "metadata": {},
   "outputs": [
    {
     "data": {
      "text/plain": [
       "0.8878016367226198"
      ]
     },
     "execution_count": 226,
     "metadata": {},
     "output_type": "execute_result"
    }
   ],
   "source": [
    "pipeline.fit(X_train, y_train)\n",
    "pipeline.score(X_test, y_test)"
   ]
  },
  {
   "cell_type": "code",
   "execution_count": 227,
   "metadata": {},
   "outputs": [
    {
     "name": "stdout",
     "output_type": "stream",
     "text": [
      "MAE on train data:  16878.931025280774\n",
      "MAE on test data:  18122.14329803069\n"
     ]
    }
   ],
   "source": [
    "predict_train  = pipeline.predict(X_train)\n",
    "predict_test  = pipeline.predict(X_test)\n",
    "\n",
    "# Root Mean Squared Error on train and test date\n",
    "print('MAE on train data: ', mean_absolute_error(y_train, predict_train))\n",
    "print('MAE on test data: ',  mean_absolute_error(y_test, predict_test))"
   ]
  },
  {
   "cell_type": "code",
   "execution_count": 228,
   "metadata": {},
   "outputs": [],
   "source": [
    "# import numpy as np\n",
    "\n",
    "# models = [Lasso(tol=0.01), Ridge(), ElasticNet(), LinearRegression()]\n",
    "\n",
    "# result = {}\n",
    "# for model in models:\n",
    "#     pipeline = Pipeline([\n",
    "#         ('enc', encoder),\n",
    "#         ('poly', PolynomialFeatures(degree=2)),\n",
    "#         ('model', model),\n",
    "#     ])\n",
    "#     param_grid = {\n",
    "#         \"poly__degree\":[1,2],\n",
    "#         \"model__alpha\":np.linspace(0.1, 100.0, num=1000),\n",
    "#     }\n",
    "#     if str(model) == \"LinearRegression()\":\n",
    "#         param_grid = {\n",
    "#             \"poly__degree\":[1,2]\n",
    "#         }\n",
    "      \n",
    "#     grid_search = RandomizedSearchCV(pipeline, param_grid, cv = 5, n_iter=1000)\n",
    "#     grid_search.fit(X_train, y_train)\n",
    "#     result[f'{str(model)}'] = grid_search.best_params_\n",
    "#     result[f'{str(model)}']['score_train'] = grid_search.best_score_\n",
    "#     result[f'{str(model)}']['score_test'] = grid_search.score(X_test, y_test)\n",
    "#     print(str(model) + \" : \" + str(result[str(model)]))"
   ]
  }
 ],
 "metadata": {
  "kernelspec": {
   "display_name": "env",
   "language": "python",
   "name": "python3"
  },
  "language_info": {
   "codemirror_mode": {
    "name": "ipython",
    "version": 3
   },
   "file_extension": ".py",
   "mimetype": "text/x-python",
   "name": "python",
   "nbconvert_exporter": "python",
   "pygments_lexer": "ipython3",
   "version": "3.9.18"
  },
  "orig_nbformat": 4
 },
 "nbformat": 4,
 "nbformat_minor": 2
}
